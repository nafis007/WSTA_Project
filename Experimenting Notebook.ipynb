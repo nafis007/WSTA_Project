{
 "cells": [
  {
   "cell_type": "code",
   "execution_count": 2,
   "metadata": {},
   "outputs": [],
   "source": [
    "import pickle"
   ]
  },
  {
   "cell_type": "code",
   "execution_count": 3,
   "metadata": {},
   "outputs": [],
   "source": [
    "import glob\n",
    "import errno\n",
    "import unicodedata"
   ]
  },
  {
   "cell_type": "code",
   "execution_count": 3,
   "metadata": {},
   "outputs": [
    {
     "name": "stdout",
     "output_type": "stream",
     "text": [
      "['1928_in_association_football', '0', 'The', 'following', 'are', 'the', 'football', '-LRB-', 'soccer', '-RRB-', 'events', 'of', 'the', 'year', '1928', 'throughout', 'the', 'world', '.']\n",
      "<class 'str'>\n"
     ]
    }
   ],
   "source": [
    "testing = \"1928_in_association_football 0 The following are the football -LRB- soccer -RRB- events of the year 1928 throughout the world .\"\n",
    "testing1 = testing.split()\n",
    "print(testing1)\n",
    "testing2 = \" \".join(testing1[2:])\n",
    "print(type(testing2))"
   ]
  },
  {
   "cell_type": "code",
   "execution_count": 4,
   "metadata": {},
   "outputs": [
    {
     "name": "stdout",
     "output_type": "stream",
     "text": [
      "1\n",
      "2\n",
      "3\n",
      "4\n",
      "5\n",
      "6\n",
      "7\n",
      "8\n",
      "9\n",
      "10\n",
      "11\n",
      "12\n",
      "13\n",
      "14\n",
      "15\n",
      "16\n",
      "17\n",
      "18\n",
      "19\n",
      "20\n",
      "21\n",
      "22\n",
      "23\n",
      "24\n",
      "25\n",
      "26\n",
      "27\n",
      "28\n",
      "29\n",
      "30\n",
      "31\n",
      "32\n",
      "33\n",
      "34\n",
      "35\n",
      "36\n",
      "37\n",
      "38\n",
      "39\n",
      "40\n",
      "41\n",
      "42\n",
      "43\n",
      "44\n",
      "45\n",
      "46\n",
      "47\n",
      "48\n",
      "49\n",
      "50\n",
      "51\n",
      "52\n",
      "53\n",
      "54\n",
      "55\n",
      "56\n",
      "57\n",
      "58\n",
      "59\n",
      "60\n",
      "61\n",
      "62\n",
      "63\n",
      "64\n",
      "65\n",
      "66\n",
      "67\n",
      "68\n",
      "69\n",
      "70\n",
      "71\n",
      "72\n",
      "73\n",
      "74\n",
      "75\n",
      "76\n",
      "77\n",
      "78\n",
      "79\n",
      "80\n",
      "81\n",
      "82\n",
      "83\n",
      "84\n",
      "85\n",
      "86\n",
      "87\n",
      "88\n",
      "89\n",
      "90\n",
      "91\n",
      "92\n",
      "93\n",
      "94\n",
      "95\n",
      "96\n",
      "97\n",
      "98\n",
      "99\n",
      "100\n",
      "101\n",
      "102\n",
      "103\n",
      "104\n",
      "105\n",
      "106\n",
      "107\n",
      "108\n",
      "109\n",
      "109\n",
      "499\n"
     ]
    }
   ],
   "source": [
    "path = 'wiki-pages-text/*'\n",
    "files = glob.glob(path)\n",
    "#print(files[0])\n",
    "#name = files[0]\n",
    "count = 0\n",
    "faultySentenceIdCount = 0\n",
    "wikiShards = {}\n",
    "\n",
    "for name in files:\n",
    "    count += 1\n",
    "    print(count)\n",
    "    with open(name, encoding=\"utf8\") as f:\n",
    "        for line in f:\n",
    "            eachLine = line.split()\n",
    "            docId = unicodedata.normalize('NFD', eachLine[0])\n",
    "            tempSentenceId = eachLine[1]\n",
    "            if tempSentenceId.isdigit():\n",
    "                \n",
    "                sentenceId = int(tempSentenceId)\n",
    "                sentence = \" \".join(eachLine[2:])\n",
    "                newSentence = {sentenceId:sentence}\n",
    "                \n",
    "                if docId in wikiShards:\n",
    "                    \n",
    "                    wikiShards[docId].append(newSentence)\n",
    "                    \n",
    "                else:\n",
    "                    \n",
    "                    wikiShards[docId] = []\n",
    "                    wikiShards[docId].append(newSentence)\n",
    "            else:\n",
    "                faultySentenceIdCount += 1\n",
    "\n",
    "\n",
    "with open('allWikiShardsDict.pickle', 'wb') as handle:\n",
    "    pickle.dump(wikiShards, handle, protocol=pickle.HIGHEST_PROTOCOL)            \n",
    "print(count)\n",
    "print(faultySentenceIdCount)"
   ]
  },
  {
   "cell_type": "code",
   "execution_count": 5,
   "metadata": {},
   "outputs": [
    {
     "name": "stdout",
     "output_type": "stream",
     "text": [
      "done\n"
     ]
    }
   ],
   "source": [
    "with open('allWikiShardsDict.pickle', 'rb') as handle:\n",
    "    allWikiDocs = pickle.load(handle)\n",
    "\n",
    "# print (wikiShards == allWikiDocs)\n",
    "print(\"done\")"
   ]
  },
  {
   "cell_type": "code",
   "execution_count": 6,
   "metadata": {},
   "outputs": [],
   "source": [
    "listKeys = list(allWikiDocs.keys())\n",
    "\n",
    "docId_int_dict = {}\n",
    "\n",
    "i = 0\n",
    "for key in listKeys:\n",
    "    docId_int_dict[key] = i\n",
    "    i += 1\n",
    "\n",
    "with open('docIdToIntDict.pickle', 'wb') as handle:\n",
    "    pickle.dump(docId_int_dict, handle, protocol=pickle.HIGHEST_PROTOCOL)\n",
    "    \n"
   ]
  },
  {
   "cell_type": "code",
   "execution_count": 7,
   "metadata": {},
   "outputs": [],
   "source": [
    "with open('docIdToIntDict.pickle', 'rb') as handle:\n",
    "    docIdIntDict = pickle.load(handle)\n",
    "    \n",
    "#print(docId_int_dict == docIdIntDict)"
   ]
  },
  {
   "cell_type": "code",
   "execution_count": 8,
   "metadata": {},
   "outputs": [
    {
     "name": "stdout",
     "output_type": "stream",
     "text": [
      "145449\n"
     ]
    }
   ],
   "source": [
    "import json\n",
    "\n",
    "with open('train.json', 'r') as f:\n",
    "    trainJsonDict = json.load(f)\n",
    "    \n",
    "print(len(trainJsonDict.keys()))"
   ]
  },
  {
   "cell_type": "code",
   "execution_count": 9,
   "metadata": {},
   "outputs": [
    {
     "name": "stdout",
     "output_type": "stream",
     "text": [
      "done\n"
     ]
    }
   ],
   "source": [
    "trainingWikiDocs = {}\n",
    "for key in trainJsonDict.keys():\n",
    "    tempEvidenceList = trainJsonDict[key]['evidence']  \n",
    "    for evidence in tempEvidenceList:\n",
    "        foundDoc = unicodedata.normalize('NFD', evidence[0])\n",
    "        if (foundDoc in allWikiDocs) and (foundDoc not in trainingWikiDocs):\n",
    "            trainingWikiDocs[foundDoc] = allWikiDocs[foundDoc]\n",
    "            \n",
    "print(\"done\")"
   ]
  },
  {
   "cell_type": "code",
   "execution_count": 10,
   "metadata": {},
   "outputs": [],
   "source": [
    "with open('allTrainShards.pickle', 'wb') as handle:\n",
    "    pickle.dump(trainingWikiDocs, handle, protocol=pickle.HIGHEST_PROTOCOL)"
   ]
  },
  {
   "cell_type": "code",
   "execution_count": 11,
   "metadata": {},
   "outputs": [
    {
     "name": "stdout",
     "output_type": "stream",
     "text": [
      "True\n"
     ]
    }
   ],
   "source": [
    "with open('allTrainShards.pickle', 'rb') as handle:\n",
    "    allTrainDocs = pickle.load(handle)\n",
    "    \n",
    "print(allTrainDocs == trainingWikiDocs)"
   ]
  },
  {
   "cell_type": "code",
   "execution_count": 21,
   "metadata": {},
   "outputs": [
    {
     "name": "stdout",
     "output_type": "stream",
     "text": [
      "[{0: 'Papua New Guinea -LRB- PNG ; -LSB- ˈpæpuə_njuː_ˈgɪniː , _ ˈpɑː - , _ - pju - -RSB- , -LSB- ˈpæpjuə , _ pɑːˈpuːə -RSB- Papua Niugini Hiri Motu : Papua Niu Gini -RRB- , officially the Independent State of Papua New Guinea , is an Oceanian country that occupies the eastern half of the island of New Guinea and its offshore islands in Melanesia , a region of the southwestern Pacific Ocean north of Australia .'}, {1: 'Its capital , located along its southeastern coast , is Port Moresby .'}, {2: 'The western half of New Guinea forms the Indonesian provinces of Papua and West Papua .'}, {5: 'At the national level , after being ruled by three external powers since 1884 , Papua New Guinea established its sovereignty in 1975 .'}, {6: 'This followed nearly 60 years of Australian administration , which started during World War I .'}, {7: 'It became an independent Commonwealth realm in 1975 with Queen Elizabeth II as its head of state and became a member of the Commonwealth of Nations in its own right .'}, {10: 'Papua New Guinea is one of the most culturally diverse countries in the world .'}, {11: 'There are 852 known languages in the country , of which 12 now have no known living speakers .'}, {12: 'Most of the population of more than 7 million people live in customary communities , which are as diverse as the languages .'}, {13: 'It is also one of the most rural , as only 18 percent of its people live in urban centres .'}, {14: \"The country is one of the world 's least explored , culturally and geographically .\"}, {15: 'It is known to have numerous groups of uncontacted peoples , and researchers believe there are many undiscovered species of plants and animals in the interior .'}, {18: 'Papua New Guinea is classified as a developing economy by the International Monetary Fund .'}, {19: \"Strong growth in Papua New Guinea 's mining and resource sector led to the country becoming the sixth fastest-growing economy in the world in 2011 .\"}, {20: 'Growth was expected to slow once major resource projects came on line in 2015 .'}, {21: 'Mining remains a major economic factor , however .'}, {22: 'Local and national governments are discussing the potential of resuming mining operations in Panguna mine in Bougainville Province , which has been closed since the civil war in the 1980s -- 1990s .'}, {23: 'Nearly 40 percent of the population lives a self-sustainable natural lifestyle with no access to global capital .'}, {26: 'Most of the people still live in strong traditional social groups based on farming .'}, {27: 'Their social lives combine traditional religion with modern practices , including primary education .'}, {28: \"These societies and clans are explicitly acknowledged by the Papua New Guinea Constitution , which expresses the wish for `` traditional villages and communities to remain as viable units of Papua New Guinean society '' and protects their continuing importance to local and national community life .\"}]\n"
     ]
    }
   ],
   "source": [
    "print(allTrainDocs[\"Papua_New_Guinea\"])"
   ]
  }
 ],
 "metadata": {
  "kernelspec": {
   "display_name": "Python 3",
   "language": "python",
   "name": "python3"
  },
  "language_info": {
   "codemirror_mode": {
    "name": "ipython",
    "version": 3
   },
   "file_extension": ".py",
   "mimetype": "text/x-python",
   "name": "python",
   "nbconvert_exporter": "python",
   "pygments_lexer": "ipython3",
   "version": "3.6.5"
  }
 },
 "nbformat": 4,
 "nbformat_minor": 2
}
