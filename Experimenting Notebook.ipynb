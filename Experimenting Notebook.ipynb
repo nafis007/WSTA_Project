{
 "cells": [
  {
   "cell_type": "code",
   "execution_count": 1,
   "metadata": {},
   "outputs": [],
   "source": [
    "import pickle"
   ]
  },
  {
   "cell_type": "code",
   "execution_count": 2,
   "metadata": {},
   "outputs": [],
   "source": [
    "import glob\n",
    "import errno\n",
    "import unicodedata"
   ]
  },
  {
   "cell_type": "code",
   "execution_count": 39,
   "metadata": {},
   "outputs": [
    {
     "name": "stdout",
     "output_type": "stream",
     "text": [
      "['1928_in_association_football', '0', 'The', 'following', 'are', 'the', 'football', '-LRB-', 'soccer', '-RRB-', 'events', 'of', 'the', 'year', '1928', 'throughout', 'the', 'world', '.']\n",
      "1928_in_association_football 0 The following are the football -LRB- soccer -RRB- events of the year 1928 throughout the world .\n"
     ]
    }
   ],
   "source": [
    "testing = \"1928_in_association_football 0 The following are the football -LRB- soccer -RRB- events of the year 1928 throughout the world .\"\n",
    "testing1 = testing.split()\n",
    "print(testing1)\n",
    "testing2 = \" \".join(testing1)\n",
    "print(testing2)"
   ]
  },
  {
   "cell_type": "code",
   "execution_count": 4,
   "metadata": {},
   "outputs": [
    {
     "name": "stdout",
     "output_type": "stream",
     "text": [
      "1\n",
      "2\n",
      "3\n",
      "4\n",
      "5\n",
      "6\n",
      "7\n",
      "8\n",
      "9\n",
      "10\n",
      "11\n",
      "12\n",
      "13\n",
      "14\n",
      "15\n",
      "16\n",
      "17\n",
      "18\n",
      "19\n",
      "20\n",
      "21\n",
      "22\n",
      "23\n",
      "24\n",
      "25\n",
      "26\n",
      "27\n",
      "28\n",
      "29\n",
      "30\n",
      "31\n",
      "32\n",
      "33\n",
      "34\n",
      "35\n",
      "36\n",
      "37\n",
      "38\n",
      "39\n",
      "40\n",
      "41\n",
      "42\n",
      "43\n",
      "44\n",
      "45\n",
      "46\n",
      "47\n",
      "48\n",
      "49\n",
      "50\n",
      "51\n",
      "52\n",
      "53\n",
      "54\n",
      "55\n",
      "56\n",
      "57\n",
      "58\n",
      "59\n",
      "60\n",
      "61\n",
      "62\n",
      "63\n",
      "64\n",
      "65\n",
      "66\n",
      "67\n",
      "68\n",
      "69\n",
      "70\n",
      "71\n",
      "72\n",
      "73\n",
      "74\n",
      "75\n",
      "76\n",
      "77\n",
      "78\n",
      "79\n",
      "80\n",
      "81\n",
      "82\n",
      "83\n",
      "84\n",
      "85\n",
      "86\n",
      "87\n",
      "88\n",
      "89\n",
      "90\n",
      "91\n",
      "92\n",
      "93\n",
      "94\n",
      "95\n",
      "96\n",
      "97\n",
      "98\n",
      "99\n",
      "100\n",
      "101\n",
      "102\n",
      "103\n",
      "104\n",
      "105\n",
      "106\n",
      "107\n",
      "108\n",
      "109\n",
      "109\n",
      "499\n"
     ]
    }
   ],
   "source": [
    "path = 'wiki-pages-text/*'\n",
    "files = glob.glob(path)\n",
    "#print(files[0])\n",
    "#name = files[0]\n",
    "count = 0\n",
    "faultySentenceIdCount = 0\n",
    "wikiShards = {}\n",
    "\n",
    "for name in files:\n",
    "    count += 1\n",
    "    print(count)\n",
    "    with open(name, encoding=\"utf8\") as f:\n",
    "        for line in f:\n",
    "            eachLine = line.split()\n",
    "            docId = unicodedata.normalize('NFD', eachLine[0])\n",
    "            tempSentenceId = eachLine[1]\n",
    "            if tempSentenceId.isdigit():\n",
    "                \n",
    "                sentenceId = int(tempSentenceId)\n",
    "                sentence = \" \".join(eachLine[2:])\n",
    "                newSentence = {sentenceId:sentence}\n",
    "                \n",
    "                if docId in wikiShards:\n",
    "                    \n",
    "                    wikiShards[docId].append(newSentence)\n",
    "                    \n",
    "                else:\n",
    "                    \n",
    "                    wikiShards[docId] = []\n",
    "                    wikiShards[docId].append(newSentence)\n",
    "            else:\n",
    "                faultySentenceIdCount += 1\n",
    "\n",
    "\n",
    "with open('allWikiShardsDict.pickle', 'wb') as handle:\n",
    "    pickle.dump(wikiShards, handle, protocol=pickle.HIGHEST_PROTOCOL)            \n",
    "print(count)\n",
    "print(faultySentenceIdCount)"
   ]
  },
  {
   "cell_type": "code",
   "execution_count": 3,
   "metadata": {},
   "outputs": [
    {
     "name": "stdout",
     "output_type": "stream",
     "text": [
      "done\n"
     ]
    }
   ],
   "source": [
    "with open('allWikiShardsDict.pickle', 'rb') as handle:\n",
    "    allWikiDocs = pickle.load(handle)\n",
    "\n",
    "# print (wikiShards == allWikiDocs)\n",
    "print(\"done\")"
   ]
  },
  {
   "cell_type": "code",
   "execution_count": 6,
   "metadata": {},
   "outputs": [],
   "source": [
    "listKeys = list(allWikiDocs.keys())\n",
    "\n",
    "docId_int_dict = {}\n",
    "\n",
    "i = 0\n",
    "for key in listKeys:\n",
    "    docId_int_dict[key] = i\n",
    "    i += 1\n",
    "\n",
    "with open('docIdToIntDict.pickle', 'wb') as handle:\n",
    "    pickle.dump(docId_int_dict, handle, protocol=pickle.HIGHEST_PROTOCOL)\n",
    "    \n"
   ]
  },
  {
   "cell_type": "code",
   "execution_count": 7,
   "metadata": {},
   "outputs": [],
   "source": [
    "with open('docIdToIntDict.pickle', 'rb') as handle:\n",
    "    docIdIntDict = pickle.load(handle)\n",
    "    \n",
    "#print(docId_int_dict == docIdIntDict)"
   ]
  },
  {
   "cell_type": "code",
   "execution_count": 5,
   "metadata": {},
   "outputs": [
    {
     "name": "stdout",
     "output_type": "stream",
     "text": [
      "145449\n"
     ]
    }
   ],
   "source": [
    "import json\n",
    "\n",
    "with open('train.json', 'r') as f:\n",
    "    trainJsonDict = json.load(f)\n",
    "    \n",
    "print(len(trainJsonDict.keys()))"
   ]
  },
  {
   "cell_type": "code",
   "execution_count": 9,
   "metadata": {},
   "outputs": [
    {
     "name": "stdout",
     "output_type": "stream",
     "text": [
      "done\n"
     ]
    }
   ],
   "source": [
    "trainingWikiDocs = {}\n",
    "for key in trainJsonDict.keys():\n",
    "    tempEvidenceList = trainJsonDict[key]['evidence']  \n",
    "    for evidence in tempEvidenceList:\n",
    "        foundDoc = unicodedata.normalize('NFD', evidence[0])\n",
    "        if (foundDoc in allWikiDocs) and (foundDoc not in trainingWikiDocs):\n",
    "            trainingWikiDocs[foundDoc] = allWikiDocs[foundDoc]\n",
    "            \n",
    "print(\"done\")"
   ]
  },
  {
   "cell_type": "code",
   "execution_count": 10,
   "metadata": {},
   "outputs": [],
   "source": [
    "with open('allTrainShards.pickle', 'wb') as handle:\n",
    "    pickle.dump(trainingWikiDocs, handle, protocol=pickle.HIGHEST_PROTOCOL)"
   ]
  },
  {
   "cell_type": "code",
   "execution_count": 3,
   "metadata": {},
   "outputs": [],
   "source": [
    "with open('allTrainShards.pickle', 'rb') as handle:\n",
    "    allTrainDocs = pickle.load(handle)\n",
    "    \n",
    "#print(allTrainDocs == trainingWikiDocs)"
   ]
  },
  {
   "cell_type": "code",
   "execution_count": 13,
   "metadata": {},
   "outputs": [
    {
     "name": "stdout",
     "output_type": "stream",
     "text": [
      "Fox_Broadcasting_Company   [{0: 'The Fox Broadcasting Company -LRB- often shortened to Fox and stylized as FOX -RRB- is an American English language commercial broadcast television network that is owned by the Fox Entertainment Group subsidiary of 21st Century Fox .'}, {1: 'The network is headquartered at the 20th Century Fox studio lot on Pico Boulevard in the Century City section of Los Angeles , with additional major offices and production facilities at the Fox Television Center in nearby West Los Angeles and the Fox Broadcasting Center in the Yorkville neighborhood of Manhattan , New York City .'}, {2: 'It is the third largest major television network in the world based on total revenues , assets , and international coverage .'}, {5: 'Launched on October 9 , 1986 as a competitor to the Big Three television networks -LRB- ABC , NBC and CBS -RRB- , Fox went on to become the most successful attempt at a fourth television network .'}, {6: 'It was the highest-rated broadcast network in the 18 -- 49 demographic from 2004 to 2012 , and earned the position as the most-watched American television network in total viewership during the 2007 -- 08 season .'}, {9: 'Fox and its affiliated companies operate many entertainment channels in international markets , although these do not necessarily air the same programming as the U.S. network .'}, {10: \"Most viewers in Canada have access to at least one U.S.-based Fox affiliate , either over-the-air or through a pay television provider , although Fox 's National Football League telecasts and most of its prime time programming are subject to simultaneous substitution regulations for cable and satellite providers imposed by the Canadian Radio-television and Telecommunications Commission -LRB- CRTC -RRB- to protect rights held by domestically based networks .\"}, {13: \"The network is named after sister company 20th Century Fox , and indirectly for producer William Fox , who founded one of the movie studio 's predecessors , Fox Film .\"}, {14: 'Fox is a member of the North American Broadcasters Association and the National Association of Broadcasters .'}]\n",
      "\n",
      "Nikolaj_Coster-Waldau   [{0: 'Nikolaj Coster-Waldau -LRB- -LSB- neɡ̊olaɪ̯ kʰʌsd̥ɐ ˈʋald̥ɑʊ̯ -RSB- ; born 27 July 1970 -RRB- is a Danish actor , producer and screenwriter .'}, {1: 'He graduated from Danish National School of Theatre in Copenhagen in 1993 .'}, {2: \"Coster-Waldau 's breakthrough performance in Denmark was his role in the film Nightwatch -LRB- 1994 -RRB- .\"}, {3: 'Since then he has appeared in numerous films in his native Scandinavia and Europe in general , including Headhunters -LRB- 2011 -RRB- and A Thousand Times Good Night -LRB- 2013 -RRB- .'}, {6: 'In the United States , his debut film role was in the war film Black Hawk Down -LRB- 2001 -RRB- , playing Medal of Honor recipient Gary Gordon .'}, {7: 'He then played Detective John Amsterdam in the short-lived Fox television series New Amsterdam -LRB- 2008 -RRB- , as well as appearing as Frank Pike in the 2009 Fox television film Virtuality , originally intended as a pilot .'}, {8: 'He became widely known to a broad audience for his current role as Ser Jaime Lannister , in the HBO series Game of Thrones .'}, {9: 'In 2017 , he became one of the highest paid actors on television and earned # 2 million per episode of Game of Thrones .'}]\n",
      "\n",
      "Roman_Atwood   [{0: 'Roman Bernard Atwood -LRB- born May 28 , 1983 -RRB- is an American YouTube personality , comedian , vlogger and pranker .'}, {1: 'He is best known for his vlogs , where he posts updates about his life on a daily basis .'}, {2: \"His vlogging channel , `` RomanAtwoodVlogs '' , has a total of 3.3 billion views and 11.9 million subscribers .\"}, {3: \"He also has another YouTube channel called `` RomanAtwood '' , where he posts pranks .\"}, {4: 'His prank videos have gained over 1.4 billion views and 10.3 million subscribers .'}, {5: 'Both of these channels are in the top 100 most subscribed on YouTube , and he became the second YouTuber after Germán Garmendia to receive two Diamond Play Buttons for his two channels .'}]\n",
      "\n",
      "History_of_art   [{0: 'The history of art is the history of any activity or product made by humans in a visual form for aesthetical or communicative purposes , expressing ideas , emotions or , in general , a worldview .'}, {1: 'Over time visual art has been classified in diverse ways , from the medieval distinction between liberal arts and mechanical arts , to the modern distinction between fine arts and applied arts , or to the many contemporary definitions , which define art as a manifestation of human creativity .'}, {2: 'The subsequent expansion of the list of principal arts in the 20th century reached to nine : architecture , dance , sculpture , music , painting , poetry -LRB- described broadly as a form of literature with aesthetic purpose or function , which also includes the distinct genres of theatre and narrative -RRB- , film , photography and graphic arts .'}, {3: 'In addition to the old forms of artistic expression such as fashion and gastronomy , new modes of expression are being considered as arts such as video , computer art , performance , advertising , animation , television and videogames .'}, {6: 'The history of art is a multidisciplinary branch of the arts and sciences , seeking an objective examination of art throughout time , classifying cultures , establishing periodizations , and observing the distinctive and influential characteristics of art .'}, {7: 'The study of the history of art was initially developed during the Renaissance , with its limited scope being the artistic production of Western civilization .'}, {8: 'However , as time has passed , it has imposed a broader view of artistic history , seeking a comprehensive overview of all the civilizations and analysis of their artistic production in terms of their own cultural values -LRB- cultural relativism -RRB- , and not just western art history .'}, {11: 'Today , art enjoys a wide network of study , dissemination and preservation of all the artistic legacy of mankind throughout history .'}, {12: 'The 20th century has seen the proliferation of institutions , foundations , art museums and galleries , in both the public and private sectors , dedicated to the analysis and cataloging of works of art as well as exhibitions aimed at a mainstream audience .'}, {13: 'The rise of media has been crucial in improving the study and dissemination of art .'}, {14: 'International events and exhibitions like the Whitney Biennial and biennales of Venice and São Paulo or the Documenta of Kassel have helped the development of new styles and trends .'}, {15: 'Prizes such as the Turner of the Tate Gallery , the Wolf Prize in Arts , the Pritzker Prize of architecture , the Pulitzer of photography and the Oscar of cinema also promote the best creative work on an international level .'}, {16: 'Institutions like UNESCO , with the establishment of the World Heritage Site lists , also help the conservation of the major monuments of the planet .'}]\n",
      "\n",
      "Adrienne_Bailon   [{0: 'Adrienne Eliza Houghton -LRB- née Bailon ; born October 24 , 1983 -RRB- is an American singer-songwriter , recording artist , actress , dancer and television personality .'}, {1: \"Adrienne Bailon first became publicly known when she rose to fame as one of the founding members and singer of both 3LW -LRB- 1999 -- 2007 -RRB- and Disney 's The Cheetah Girls -LRB- 2003 -- 2008 -RRB- .\"}, {4: 'Bailon recorded a debut solo album which was later shelved .'}, {5: 'Since then , Bailon has stated that she plans to record a Spanish-language solo album .'}, {8: \"Aside from her work in 3LW and The Cheetah Girls , Bailon went on to develop her own acting career with roles in The Cheetah Girls films , Coach Carter and the MTV film All You 've Got .\"}, {9: \"Aside from her work in film , she has also guest starred in numerous television series including the Disney Channel series That 's So Raven and The Suite Life of Zack & Cody .\"}, {10: \"Bailon has established a solo music career , contributing two solo tracks , including `` What If '' , to The Cheetah Girls : One World soundtrack as well as the Confessions of a Shopaholic soundtrack , and numerous other guest musical ventures .\"}, {13: 'Bailon co-stars alongside television personality , model and actress Julissa Bermudez in their own reality series , Empire Girls : Julissa and Adrienne which airs on the Style Network .'}, {14: \"Adrienne met Julissa on the set of the 2006 film All You 've Got .\"}, {17: 'Currently , Bailon is one of the hosts of syndicated talk show The Real along with former fellow Disney Channel star Tamera Mowry , Jeannie Mai , and Loni Love , which premiered on July 15 , 2013 .'}, {20: \"Bailon 's career , spanning over 16 years with both 3LW and The Cheetah Girls , has helped her sell a combined 5.6 million recording albums worldwide .\"}]\n",
      "\n",
      "Prisoners_of_War_-LRB-TV_series-RRB-   [{0: \"Prisoners of War -LRB- original title in -RRB- is an Israeli television drama series made by Keshet and originally aired on Israel 's Channel 2 from March to May 2010 .\"}, {1: 'A second season aired in Israel from October to December 2012 , and a third season is planned .'}, {2: 'The series was created by Israeli director , screenwriter and producer Gideon Raff .'}, {3: 'In 2010 it won the Israeli Academy Award for Television for Best Drama Series .'}, {6: 'The programme was acquired by 20th Century Fox Television before it aired in Israel , and was adapted into the acclaimed series Homeland for Showtime in the United States .'}, {7: 'In India it was officially adapted as finite 126 episode television series P.O.W. - Bandi Yuddh Ke by Nikhil Advani in 2016 with Hatufim creator Gideon Raff consulting for the series .'}]\n",
      "\n",
      "Homeland_-LRB-TV_series-RRB-   [{0: \"Homeland is an American spy thriller television series developed by Howard Gordon and Alex Gansa based on the Israeli series Prisoners of War -LRB- Original title חטופים Hatufim , literally `` Abductees '' -RRB- , which was created by Gideon Raff .\"}, {3: 'The series stars Claire Danes as Carrie Mathison , a Central Intelligence Agency officer with bipolar disorder , and Damian Lewis as Nicholas Brody , a U.S. Marine Corps Scout Sniper .'}, {4: \"Mathison had come to believe that Brody , who was held captive by al-Qaeda as a prisoner of war , was `` turned '' by the enemy and poses a threat to the United States .\"}, {7: 'The series is broadcast in the U.S. on the cable channel Showtime , and is produced by Fox 21 Television Studios -LRB- formerly Fox 21 -RRB- .'}, {8: 'It premiered on October 2 , 2011 .'}, {9: 'The first episode was made available online , more than two weeks before the television broadcast , with viewers having to complete game tasks to gain access .'}, {10: 'On October 22 , 2013 , Showtime renewed Homeland for a fourth season , which premiered on October 5 , 2014 .'}, {11: 'On November 10 , 2014 , Showtime renewed the series for a 12-episode fifth season that premiered on October 4 , 2015 .'}, {12: 'On December 9 , 2015 , the series was renewed for a sixth season .'}, {13: 'The sixth season debuted on January 15 , 2017 .'}, {14: \"The series has also been renewed for a seventh and eighth season ; the eighth is planned to be the series ' final season by the creators .\"}, {17: 'The series has received generally positive reviews , and has won several awards , including the 2012 Primetime Emmy Award for Outstanding Drama Series , and the 2011 and 2012 Golden Globe Award for Best Television Series -- Drama , as well as the Primetime Emmy Award for Outstanding Lead Actor in a Drama Series and Lead Actress in a Drama Series for Damian Lewis and Claire Danes , respectively .'}]\n",
      "\n",
      "Boston_Celtics   [{0: 'The Boston Celtics -LRB- -LSB- ˈsɛltɪks -RSB- -RRB- are an American professional basketball team based in Boston , Massachusetts .'}, {1: \"The Celtics compete in the National Basketball Association -LRB- NBA -RRB- as a member of the league 's Eastern Conference Atlantic Division .\"}, {2: \"Founded in 1946 and one of eight NBA teams -LRB- out of 23 total teams -RRB- to survive the league 's first decade , the team is owned by Boston Basketball Partners LLC .\"}, {3: \"The Celtics play their home games at the TD Garden , which they share with the National Hockey League -LRB- NHL -RRB- 's Boston Bruins .\"}, {4: \"The franchise 's 17 championships are the most of any NBA team , and account for 24.3 percent of all NBA championships since the league 's founding in 1946 .\"}, {5: 'As a percentage of championships won , the Celtics are the most successful franchise to date in the major four traditional North American professional sports leagues .'}, {8: 'The Celtics have played the Lakers a record 12 times in the finals , including their most recent appearances in 2008 and 2010 , where the Celtics have won nine meetings -LRB- but only two since 1980 -RRB- .'}, {9: 'Four Celtics players -LRB- Bob Cousy , Bill Russell , Dave Cowens and Larry Bird -RRB- have won the NBA Most Valuable Player Award for an NBA record total of 10 MVP awards .'}, {10: \"Their mascot ` Lucky the Leprechaun ' is a nod to the team 's Irish heritage and to Boston 's historically large Irish population .\"}, {13: \"The Celtics rose again after struggling through the 1990s to win a championship in 2008 with the help of Kevin Garnett , Paul Pierce , and Ray Allen in what was known as the new `` Big Three '' era , following the original `` Big Three '' era of the 1980s that featured Larry Bird , Kevin McHale , and Robert Parish .\"}, {16: \"After the end of the second `` Big Three '' era , general manager Danny Ainge began a rebuilding process with the help of new head coach Brad Stevens , who led the Celtics to a return to the playoffs in 2015 , 2016 , and 2017 .\"}, {17: 'During the 2016 -- 17 season , the Celtics clinched the top seed in the Eastern Conference playoffs .'}]\n",
      "\n",
      "The_Ten_Commandments_-LRB-1956_film-RRB-   [{0: 'The Ten Commandments is a 1956 American biblical epic film produced , directed , and narrated by Cecil B. DeMille , shot in VistaVision -LRB- color by Technicolor -RRB- , and released by Paramount Pictures .'}, {1: \"The film is based on Prince of Egypt by Dorothy Clarke Wilson , Pillar of Fire by J.H. Ingraham , On Eagle 's Wings by A.E. Southon , and the Book of Exodus .\"}, {2: 'The Ten Commandments dramatizes the biblical story of the life of Moses , an adopted Egyptian prince who becomes the deliverer of his real brethren , the enslaved Hebrews , and therefore leads the Exodus to Mount Sinai , where he receives , from God , the Ten Commandments .'}, {3: 'The film stars Charlton Heston in the lead role , Yul Brynner as Rameses , Anne Baxter as Nefretiri , Edward G. Robinson as Dathan , Yvonne De Carlo as Sephora , Debra Paget as Lilia , and John Derek as Joshua ; and features Sir Cedric Hardwicke as Sethi , Nina Foch as Bithiah , Martha Scott as Yoshebel , Judith Anderson as Memnet , and Vincent Price as Baka , among others .'}, {6: \"Filmed on location in Egypt , Mount Sinai and the Sinai Peninsula , the film was DeMille 's last and most successful work .\"}, {7: 'It is a partial remake of his 1923 silent film of the same title , and features one of the largest sets ever created for a film .'}, {8: 'The film was released to cinemas in the USA on 5 October 1956 and , at the time of its release , was the most expensive film ever made .'}, {11: 'In 1957 , the film was nominated for seven Academy Awards including Best Picture , winning the Academy Award for Best Visual Effects -LRB- John P. Fulton , A.S.C. -RRB- .'}, {12: 'Charlton Heston was nominated for a Golden Globe Award for Best Performance by an Actor in a Motion Picture -LRB- Drama -RRB- for his role as Moses .'}, {13: 'Yul Brynner won the National Board of Review Award for Best Actor for his role as Rameses and his other roles in Anastasia and The King and I .'}, {14: 'It is also one of the most financially successful films ever made , grossing approximately $ 122.7 million at the box office during its initial release ; it was the most successful film of 1956 and the second-highest-grossing film of the decade .'}, {15: 'According to Guinness World Records , in terms of theatrical exhibition it is the seventh most successful film of all-time when the box office gross is adjusted for inflation .'}, {18: \"In 1999 , the film was selected for preservation in the United States National Film Registry by the Library of Congress as being `` culturally , historically , or aesthetically significant '' .\"}, {19: \"In June 2008 , the American Film Institute revealed its `` Ten Top Ten '' -- the best ten films in ten American film genres -- after polling over 1,500 people from the creative community .\"}, {20: 'The film was listed as the tenth best film in the epic genre .'}, {21: 'Network television has aired the film in prime time during the Passover/Easter season every year since 1973 .'}, {22: 'The last credited actor in the movie still alive is Joanna Merlin .'}]\n",
      "\n",
      "Tetris   [{0: 'Tetris -LRB- , pronounced -LSB- ˈtɛtrʲɪs -RSB- -RRB- is a tile-matching puzzle video game , originally designed and programmed by Russian game designer Alexey Pajitnov .'}, {1: 'It was released on June 6 , 1984 , while he was working for the Dorodnitsyn Computing Centre of the Academy of Science of the USSR in Moscow .'}, {2: \"He derived its name from the Greek numerical prefix tetra - -LRB- all of the game 's pieces contain four segments -RRB- and tennis , Pajitnov 's favorite sport .\"}, {5: 'Tetris was the first entertainment software to be exported from the USSR to the US , where it was published by Spectrum HoloByte for Commodore 64 and IBM PC .'}, {6: 'The Tetris game is a popular use of tetrominoes , the four-element special case of polyominoes .'}, {7: 'Polyominoes have been used in popular puzzles since at least 1907 , and the name was given by the mathematician Solomon W. Golomb in 1953 .'}, {8: 'However , even the enumeration of pentominoes is dated to antiquity .'}, {11: 'The game -LRB- or one of its many variants -RRB- is available for nearly every video game console and computer operating system , as well as on devices such as graphing calculators , mobile phones , portable media players , PDAs , Network music players and even as an Easter egg on non-media products like oscilloscopes .'}, {12: 'It has even inspired Tetris serving dishes and been played on the sides of various buildings .'}, {15: 'While versions of Tetris were sold for a range of 1980s home computer platforms as well as arcades , it was the hugely successful handheld version for the Game Boy launched in 1989 that established the game as one of the most popular ever .'}, {16: \"Electronic Gaming Monthly '' 's 100th issue had Tetris in first place as `` Greatest Game of All Time '' .\"}, {17: \"In 2007 , Tetris came in second place in IGN 's `` 100 Greatest Video Games of All Time '' .\"}, {18: 'In January 2010 , it was announced that the Tetris franchise had sold more than 170 million copies , approximately 70 million physical copies and over 100 million copies for cell phones , making it the best selling paid-downloaded game of all time .'}, {19: \"On 14 March 2014 , The Tetris Company announced a deal to bring Tetris '' to two of the latest hardware platforms , the Xbox One and PlayStation 4 , in partnership with Ubisoft -LRB- publishing -RRB- and SoMa Play -LRB- development -RRB- , to coincide with the franchise 's 30th anniversary .\"}]\n",
      "\n",
      "Cyndi_Lauper   [{0: \"Cynthia Ann Stephanie `` Cyndi '' Lauper -LRB- born June 22 , 1953 -RRB- is an American singer , songwriter , actress and LGBTQ activist .\"}, {1: 'Her career has spanned over 30 years .'}, {2: \"Her debut solo album She 's So Unusual -LRB- 1983 -RRB- was the first debut female album to chart four top-five hits on the Billboard Hot 100 -- `` Girls Just Want to Have Fun '' , `` Time After Time '' , `` She Bop '' , and `` All Through the Night '' -- and earned Lauper the Best New Artist award at the 27th Grammy Awards in 1985 .\"}, {3: 'Her success continued with the soundtrack for the motion picture The Goonies and her second record True Colors -LRB- 1986 -RRB- .'}, {4: \"This album included the number one single `` True Colors '' and `` Change of Heart '' , which peaked at number 3 .\"}, {7: 'Since 1989 , Lauper has released nine studio albums and participated in many other projects .'}, {8: \"In 2010 , Memphis Blues , became Billboard 's most successful blues album of the year , remaining at # 1 on the Billboard Blues Albums chart for 13 consecutive weeks .\"}, {9: 'In 2013 , Lauper won the Tony Award for Best Original Score for composing the Broadway musical Kinky Boots , making her the first woman to win the category by herself .'}, {10: 'The musical was awarded five other Tonys including Tony Award for Best New Musical .'}, {11: 'In 2014 , Lauper was awarded the Grammy Award for Best Musical Theater Album for the cast recording .'}, {12: 'In 2016 , the West End production won Best New Musical at the Olivier Awards'}, {15: 'Lauper has established herself as a pop culture icon selling over 50 million records and 20 million singles .'}, {16: \"She has won awards at the Grammys , Emmys , Tonys , the New York 's Outer Critics Circle , MTV Video Music Awards -LRB- VMAs -RRB- , Billboard Awards , and American Music Awards -LRB- AMAs -RRB- .\"}, {17: 'An inductee into both the Songwriters Hall of Fame and the Hollywood Walk of Fame , Lauper is one of the few singers to win three of the four major American entertainment awards -LRB- EGOT -RRB- .'}, {18: 'Lauper won the inaugural Best Female Video prize at the 1984 VMAs for Girls Just Want To Have Fun .'}, {19: 'This music video is recognized by MTV , VH1 and Rolling Stone Magazine as one of the greatest ever music videos of the era .'}, {20: \"She is featured in the Rock and Roll Hall of Fame Museum 's Women Who Rock exhibit .\"}, {21: \"Her debut album is included in Rolling Stone '' 's list of the 500 Greatest Albums of All Time , while Time After Time is included in Vh1 's list of the 100 Best Songs of the Past 25 years .\"}, {22: \"VH1 has ranked Lauper No. 58 of the 100 Greatest Women of Rock & Roll '' .\"}, {25: 'Lauper has been celebrated for her humanitarian work , particularly as an advocate for LGBT rights in the United States .'}, {26: \"Her charitable efforts were acknowledged in 2013 when the singer was invited as a special guest to attend US President Barack Obama 's second-term inaugural .\"}]\n",
      "\n"
     ]
    }
   ],
   "source": [
    "count = 0\n",
    "for key in allTrainDocs.keys():\n",
    "    print (key,\" \",allTrainDocs[key])\n",
    "    count += 1\n",
    "    print()\n",
    "    if count > 10:\n",
    "        break"
   ]
  },
  {
   "cell_type": "code",
   "execution_count": 42,
   "metadata": {},
   "outputs": [
    {
     "name": "stdout",
     "output_type": "stream",
     "text": [
      "Nikolaj Coster-Waldau -LRB- -LSB- neɡ̊olaɪ̯ kʰʌsd̥ɐ ˈʋald̥ɑʊ̯ -RSB- ; born 27 July 1970 -RRB- is a Danish actor , producer and screenwriter . He graduated from Danish National School of Theatre in Copenhagen in 1993 . Coster-Waldau 's breakthrough performance in Denmark was his role in the film Nightwatch -LRB- 1994 -RRB- .\n"
     ]
    }
   ],
   "source": [
    "sentenceList = allTrainDocs['Nikolaj_Coster-Waldau']\n",
    "#for sentence in sentenceList:\n",
    "#    rawSentence = sentence.values()\n",
    "totalSentence = []\n",
    "\n",
    "sentence = sentenceList[0]\n",
    "rawSentence = list(sentence.values())[0]\n",
    "totalSentence.append(rawSentence)\n",
    "\n",
    "\n",
    "sentence2 = sentenceList[1]\n",
    "rawSentence2 = list(sentence2.values())[0]\n",
    "totalSentence.append(rawSentence2)\n",
    "\n",
    "\n",
    "#totalSentence = rawSentence+\" \"+rawSentence2\n",
    "\n",
    "sentence3 = sentenceList[2]\n",
    "rawSentence3 = list(sentence3.values())[0]\n",
    "\n",
    "totalSentence.append(rawSentence3)\n",
    "\n",
    "finalRawDoc = \" \".join(totalSentence)\n",
    "print(finalRawDoc)"
   ]
  },
  {
   "cell_type": "code",
   "execution_count": 9,
   "metadata": {},
   "outputs": [
    {
     "name": "stderr",
     "output_type": "stream",
     "text": [
      "D:\\Secondary Prgoram Setup\\Anaconda3\\lib\\site-packages\\gensim\\utils.py:1197: UserWarning: detected Windows; aliasing chunkize to chunkize_serial\n",
      "  warnings.warn(\"detected Windows; aliasing chunkize to chunkize_serial\")\n"
     ]
    }
   ],
   "source": [
    "import gensim"
   ]
  },
  {
   "cell_type": "code",
   "execution_count": 4,
   "metadata": {},
   "outputs": [
    {
     "name": "stdout",
     "output_type": "stream",
     "text": [
      "<class 'list'>\n"
     ]
    }
   ],
   "source": [
    "i = 0\n",
    "docToIntMap = {}\n",
    "justDocumentList = []\n",
    "for doc in allWikiDocs.keys():\n",
    "    sentenceList = allWikiDocs[doc]\n",
    "    rawSentenceList = []\n",
    "    for sentence in sentenceList:\n",
    "        rawSentence = list(sentence.values())[0]\n",
    "        rawSentenceList.append(rawSentence)\n",
    "    finalRawDoc = \" \".join(rawSentenceList)\n",
    "    docToIntMap[doc] = i\n",
    "    justDocumentList.append(finalRawDoc)   \n",
    "    i += 1\n",
    "\n",
    "print(type(justDocumentList))"
   ]
  },
  {
   "cell_type": "code",
   "execution_count": 5,
   "metadata": {},
   "outputs": [],
   "source": [
    "with open('justDocumentList.pickle', 'wb') as handle:\n",
    "    pickle.dump(justDocumentList, handle, protocol=pickle.HIGHEST_PROTOCOL)"
   ]
  },
  {
   "cell_type": "code",
   "execution_count": 6,
   "metadata": {},
   "outputs": [],
   "source": [
    "with open('docToIntMap.pickle', 'wb') as handle:\n",
    "    pickle.dump(docToIntMap, handle, protocol=pickle.HIGHEST_PROTOCOL)"
   ]
  },
  {
   "cell_type": "code",
   "execution_count": 3,
   "metadata": {},
   "outputs": [],
   "source": [
    "with open('justDocumentList.pickle', 'rb') as handle:\n",
    "    justDocumentList = pickle.load(handle)"
   ]
  },
  {
   "cell_type": "code",
   "execution_count": 4,
   "metadata": {},
   "outputs": [],
   "source": [
    "with open('docToIntMap.pickle', 'rb') as handle:\n",
    "    docToIntMap = pickle.load(handle)"
   ]
  },
  {
   "cell_type": "code",
   "execution_count": null,
   "metadata": {},
   "outputs": [],
   "source": [
    "from nltk.tokenize import word_tokenize\n",
    "gen_docs = [[w.lower() for w in word_tokenize(text)] \n",
    "            for text in justDocumentList]\n",
    "#print(gen_docs)"
   ]
  },
  {
   "cell_type": "code",
   "execution_count": 7,
   "metadata": {},
   "outputs": [],
   "source": [
    "gen_docs = [[w for w in text.split()] \n",
    "            for text in justDocumentList]\n",
    "#print(gen_docs)"
   ]
  },
  {
   "cell_type": "code",
   "execution_count": 10,
   "metadata": {},
   "outputs": [],
   "source": [
    "dictionary = gensim.corpora.Dictionary(gen_docs)"
   ]
  },
  {
   "cell_type": "code",
   "execution_count": 11,
   "metadata": {},
   "outputs": [],
   "source": [
    "corpus = [dictionary.doc2bow(gen_doc) for gen_doc in gen_docs]"
   ]
  },
  {
   "cell_type": "code",
   "execution_count": 12,
   "metadata": {},
   "outputs": [
    {
     "ename": "MemoryError",
     "evalue": "",
     "output_type": "error",
     "traceback": [
      "\u001b[1;31m---------------------------------------------------------------------------\u001b[0m",
      "\u001b[1;31mMemoryError\u001b[0m                               Traceback (most recent call last)",
      "\u001b[1;32m<ipython-input-12-cd627da88cd0>\u001b[0m in \u001b[0;36m<module>\u001b[1;34m()\u001b[0m\n\u001b[0;32m      1\u001b[0m \u001b[1;32mwith\u001b[0m \u001b[0mopen\u001b[0m\u001b[1;33m(\u001b[0m\u001b[1;34m'corpusTemp.pickle'\u001b[0m\u001b[1;33m,\u001b[0m \u001b[1;34m'wb'\u001b[0m\u001b[1;33m)\u001b[0m \u001b[1;32mas\u001b[0m \u001b[0mhandle\u001b[0m\u001b[1;33m:\u001b[0m\u001b[1;33m\u001b[0m\u001b[0m\n\u001b[1;32m----> 2\u001b[1;33m     \u001b[0mpickle\u001b[0m\u001b[1;33m.\u001b[0m\u001b[0mdump\u001b[0m\u001b[1;33m(\u001b[0m\u001b[0mcorpus\u001b[0m\u001b[1;33m,\u001b[0m \u001b[0mhandle\u001b[0m\u001b[1;33m,\u001b[0m \u001b[0mprotocol\u001b[0m\u001b[1;33m=\u001b[0m\u001b[0mpickle\u001b[0m\u001b[1;33m.\u001b[0m\u001b[0mHIGHEST_PROTOCOL\u001b[0m\u001b[1;33m)\u001b[0m\u001b[1;33m\u001b[0m\u001b[0m\n\u001b[0m",
      "\u001b[1;31mMemoryError\u001b[0m: "
     ]
    }
   ],
   "source": [
    "with open('corpusTemp.pickle', 'wb') as handle:\n",
    "    pickle.dump(corpus, handle, protocol=pickle.HIGHEST_PROTOCOL)"
   ]
  },
  {
   "cell_type": "code",
   "execution_count": 77,
   "metadata": {},
   "outputs": [],
   "source": [
    "tf_idf = gensim.models.TfidfModel(corpus)"
   ]
  },
  {
   "cell_type": "code",
   "execution_count": 78,
   "metadata": {},
   "outputs": [
    {
     "name": "stdout",
     "output_type": "stream",
     "text": [
      "1528645\n"
     ]
    }
   ],
   "source": [
    "s = 0\n",
    "for i in corpus:\n",
    "    s += len(i)\n",
    "print(s)"
   ]
  },
  {
   "cell_type": "code",
   "execution_count": 79,
   "metadata": {},
   "outputs": [],
   "source": [
    "sims = gensim.similarities.Similarity('E:/(4) Semester 1 February 2019/COMP90042 Web Search and Text Analysis/Project Our/',tf_idf[corpus],\n",
    "                                      num_features=len(dictionary))"
   ]
  },
  {
   "cell_type": "code",
   "execution_count": 101,
   "metadata": {},
   "outputs": [],
   "source": [
    "query_doc = [w.lower() for w in word_tokenize(\"The Ten Commandments is an epic film.\")]\n",
    "#print(query_doc)\n",
    "query_doc_bow = dictionary.doc2bow(query_doc)\n",
    "#print(query_doc_bow)\n",
    "query_doc_tf_idf = tf_idf[query_doc_bow]\n",
    "#print(query_doc_tf_idf)"
   ]
  },
  {
   "cell_type": "code",
   "execution_count": 81,
   "metadata": {},
   "outputs": [
    {
     "name": "stdout",
     "output_type": "stream",
     "text": [
      "Similarity index with 12549 documents in 0 shards (stored under E:/(4) Semester 1 February 2019/COMP90042 Web Search and Text Analysis/Project Our/)\n",
      "<class 'gensim.similarities.docsim.Similarity'>\n"
     ]
    }
   ],
   "source": [
    "print(sims)\n",
    "print(type(sims))"
   ]
  },
  {
   "cell_type": "code",
   "execution_count": 67,
   "metadata": {},
   "outputs": [
    {
     "name": "stdout",
     "output_type": "stream",
     "text": [
      "<class 'numpy.ndarray'>\n"
     ]
    }
   ],
   "source": [
    "print(type(sims[query_doc_tf_idf]))"
   ]
  },
  {
   "cell_type": "code",
   "execution_count": 102,
   "metadata": {},
   "outputs": [
    {
     "name": "stdout",
     "output_type": "stream",
     "text": [
      "254\n"
     ]
    }
   ],
   "source": [
    "import numpy as np\n",
    "#mylist = [3,2,1,5,0]\n",
    "ind = np.argmax(sims[query_doc_tf_idf])\n",
    "print(ind)\n",
    "\n"
   ]
  },
  {
   "cell_type": "code",
   "execution_count": 103,
   "metadata": {},
   "outputs": [
    {
     "name": "stdout",
     "output_type": "stream",
     "text": [
      "Ten_Commandments\n"
     ]
    }
   ],
   "source": [
    "print(list(docToIntMap.keys())[list(docToIntMap.values()).index(ind)])"
   ]
  }
 ],
 "metadata": {
  "kernelspec": {
   "display_name": "Python 3",
   "language": "python",
   "name": "python3"
  },
  "language_info": {
   "codemirror_mode": {
    "name": "ipython",
    "version": 3
   },
   "file_extension": ".py",
   "mimetype": "text/x-python",
   "name": "python",
   "nbconvert_exporter": "python",
   "pygments_lexer": "ipython3",
   "version": "3.6.5"
  }
 },
 "nbformat": 4,
 "nbformat_minor": 2
}
